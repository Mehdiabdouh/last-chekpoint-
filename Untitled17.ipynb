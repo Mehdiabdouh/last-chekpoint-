{
 "cells": [
  {
   "cell_type": "code",
   "execution_count": 12,
   "id": "20be838f",
   "metadata": {},
   "outputs": [
    {
     "name": "stdout",
     "output_type": "stream",
     "text": [
      "0:00\n",
      "Fire in the hole \n"
     ]
    }
   ],
   "source": [
    "import time\n",
    "timelength=90\n",
    "def coutdown(t):\n",
    "    while t>=0:\n",
    "        mins,secs=divmod(t,59) \n",
    "        timeformat=\"{:01d}:{:02d}\".format(mins,secs)\n",
    "        print(timeformat, end='\\r')\n",
    "        time.sleep(1)\n",
    "        t=t-1\n",
    "    print(\"\\nFire in the hole \")\n",
    "coutdown(timelength)"
   ]
  },
  {
   "cell_type": "code",
   "execution_count": null,
   "id": "34a93f64",
   "metadata": {},
   "outputs": [],
   "source": []
  }
 ],
 "metadata": {
  "kernelspec": {
   "display_name": "Python 3",
   "language": "python",
   "name": "python3"
  },
  "language_info": {
   "codemirror_mode": {
    "name": "ipython",
    "version": 3
   },
   "file_extension": ".py",
   "mimetype": "text/x-python",
   "name": "python",
   "nbconvert_exporter": "python",
   "pygments_lexer": "ipython3",
   "version": "3.8.8"
  }
 },
 "nbformat": 4,
 "nbformat_minor": 5
}
